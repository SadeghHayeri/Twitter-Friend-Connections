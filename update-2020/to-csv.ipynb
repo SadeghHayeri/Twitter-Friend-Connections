{
 "cells": [
  {
   "cell_type": "code",
   "execution_count": 88,
   "id": "essential-volunteer",
   "metadata": {},
   "outputs": [],
   "source": [
    "import numpy as np\n",
    "import tweepy\n",
    "from tqdm.notebook import trange, tqdm"
   ]
  },
  {
   "cell_type": "code",
   "execution_count": 89,
   "id": "geographic-folder",
   "metadata": {},
   "outputs": [],
   "source": [
    "FOLLOWERS_DIR = '../data'\n",
    "PROFILE_DIR = '../profiles'"
   ]
  },
  {
   "cell_type": "code",
   "execution_count": 90,
   "id": "controlling-pipeline",
   "metadata": {},
   "outputs": [],
   "source": [
    "user_followers = !ls $FOLLOWERS_DIR"
   ]
  },
  {
   "cell_type": "code",
   "execution_count": 91,
   "id": "right-geneva",
   "metadata": {},
   "outputs": [],
   "source": [
    "profiles = !ls $PROFILE_DIR"
   ]
  },
  {
   "cell_type": "code",
   "execution_count": 94,
   "id": "consistent-pathology",
   "metadata": {},
   "outputs": [
    {
     "data": {
      "application/vnd.jupyter.widget-view+json": {
       "model_id": "37c15daea5db41488d7b9f18464dc0a7",
       "version_major": 2,
       "version_minor": 0
      },
      "text/plain": [
       "  0%|          | 0/4296 [00:00<?, ?it/s]"
      ]
     },
     "metadata": {},
     "output_type": "display_data"
    }
   ],
   "source": [
    "with open('final.csv', 'w') as file:\n",
    "    for user_follower in tqdm(user_followers):\n",
    "        user_id = int(''.join(list(user_follower)[:-4]))\n",
    "        followers = np.load(FOLLOWERS_DIR + \"/\" + user_follower)\n",
    "        for follower in followers:\n",
    "            file.write(f'{user_id},{follower}\\n')"
   ]
  },
  {
   "cell_type": "code",
   "execution_count": null,
   "id": "signal-johnston",
   "metadata": {},
   "outputs": [],
   "source": [
    "if user_follower in profiles:\n",
    "    profile = np.load(PROFILE_DIR + \"/\" + user_follower, allow_pickle=True).tolist()\n",
    "\n",
    "    name = profile.name\n",
    "    location = profile.location\n",
    "    lang = profile.lang\n",
    "    protected = profile.protected"
   ]
  }
 ],
 "metadata": {
  "kernelspec": {
   "display_name": "Python 3",
   "language": "python",
   "name": "python3"
  },
  "language_info": {
   "codemirror_mode": {
    "name": "ipython",
    "version": 3
   },
   "file_extension": ".py",
   "mimetype": "text/x-python",
   "name": "python",
   "nbconvert_exporter": "python",
   "pygments_lexer": "ipython3",
   "version": "3.8.5"
  }
 },
 "nbformat": 4,
 "nbformat_minor": 5
}
